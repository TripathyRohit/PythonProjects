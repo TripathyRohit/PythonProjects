{
 "cells": [
  {
   "cell_type": "markdown",
   "id": "9447a711",
   "metadata": {},
   "source": [
    "# Write a program that takes a string as input,\n",
    "and counts the frequency of each word in\n",
    "the string, there might be repeated\n",
    "characters in the string. Your task is to find\n",
    "the highest frequency and returns the length\n",
    "of the highest-frequency word."
   ]
  },
  {
   "cell_type": "code",
   "execution_count": 5,
   "id": "370de9ea",
   "metadata": {},
   "outputs": [
    {
     "name": "stdout",
     "output_type": "stream",
     "text": [
      "Enter the file name with extension :foot.txt\n",
      "{'Lionel': 1, 'Messi': 1, 'Paris': 3, 'Saint': 1, 'Argentina\\n': 1, 'Neymar.Jr': 1, 'Germain': 2, 'Brazil\\n': 1, 'Cristiano': 1, 'Ronaldo': 1, 'Manchester United': 1, 'Portugal\\n': 1, 'Sergio': 1, 'Ramos': 1, 'Spain': 1}\n"
     ]
    }
   ],
   "source": [
    "f_name = input ('Enter the file name with extension :') #Asking user to input file name - store the file at right location\n",
    "try:\n",
    "    f_read = open(f_name) #open the file and stored under f_read\n",
    "    dic = dict() # An empty dictionary\n",
    "    for line in f_read: #Content in the file which is loaded has to be read line by line \n",
    "        words = line.split(',') #split the line into words which is comma (,) seperated\n",
    "        for word in words: # picking up every word from words variable\n",
    "            if word in dic: #check the words in the dictionary \n",
    "                dic[word] = dic[word]+1 #if word already present in the dictionary,increments the count of the word by 1\n",
    "            else:\n",
    "                dic[word] = 1 #if word is not present in the dictionary just add to the dictionary.\n",
    "    print (dic) # printing the result \n",
    "except:\n",
    "    print ('File not found ') # if the file location was incorrect or not present it throws an error."
   ]
  },
  {
   "cell_type": "code",
   "execution_count": 7,
   "id": "bff39c2e",
   "metadata": {},
   "outputs": [
    {
     "name": "stdout",
     "output_type": "stream",
     "text": [
      "3\n",
      "Word(s) with the highest frequency: ['Paris']\n"
     ]
    }
   ],
   "source": [
    "# Find the maximum frequency in the dictionary\n",
    "max_frequency = max(dic.values())\n",
    "print (max_frequency)\n",
    "# Find the word(s) with the highest frequency\n",
    "words_with_highest_frequency = [word for word, freq in dic.items() if freq == max_frequency]\n",
    "# words(s) with the same highest frequency\n",
    "print(\"Word(s) with the highest frequency:\", words_with_highest_frequency)"
   ]
  }
 ],
 "metadata": {
  "kernelspec": {
   "display_name": "Python 3 (ipykernel)",
   "language": "python",
   "name": "python3"
  },
  "language_info": {
   "codemirror_mode": {
    "name": "ipython",
    "version": 3
   },
   "file_extension": ".py",
   "mimetype": "text/x-python",
   "name": "python",
   "nbconvert_exporter": "python",
   "pygments_lexer": "ipython3",
   "version": "3.11.3"
  }
 },
 "nbformat": 4,
 "nbformat_minor": 5
}
