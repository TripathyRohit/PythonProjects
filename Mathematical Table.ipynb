{
 "cells": [
  {
   "cell_type": "code",
   "execution_count": 1,
   "id": "0fa0b1dc",
   "metadata": {},
   "outputs": [
    {
     "name": "stdout",
     "output_type": "stream",
     "text": [
      "Enter the Valid Intiger :15\n",
      "15 * 1 = 15\n",
      "15 * 2 = 30\n",
      "15 * 3 = 45\n",
      "15 * 4 = 60\n",
      "15 * 5 = 75\n",
      "15 * 6 = 90\n",
      "15 * 7 = 105\n",
      "15 * 8 = 120\n",
      "15 * 9 = 135\n"
     ]
    }
   ],
   "source": [
    "# Create a variable and store the input from the user\n",
    "num = int(input('Enter the Valid Intiger :')) #User's input can be stored in num\n",
    "for i in range (1,10): #for loop used for taking all the num from 1-10 one by one \n",
    "    print (num,\"*\",i,\"=\",num*i) #printing the table as num*i=num*i (5*2=10) "
   ]
  }
 ],
 "metadata": {
  "kernelspec": {
   "display_name": "Python 3 (ipykernel)",
   "language": "python",
   "name": "python3"
  },
  "language_info": {
   "codemirror_mode": {
    "name": "ipython",
    "version": 3
   },
   "file_extension": ".py",
   "mimetype": "text/x-python",
   "name": "python",
   "nbconvert_exporter": "python",
   "pygments_lexer": "ipython3",
   "version": "3.11.3"
  }
 },
 "nbformat": 4,
 "nbformat_minor": 5
}
