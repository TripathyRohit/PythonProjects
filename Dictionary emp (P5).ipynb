{
 "cells": [
  {
   "cell_type": "code",
   "execution_count": 10,
   "id": "e30994f9",
   "metadata": {},
   "outputs": [
    {
     "name": "stdout",
     "output_type": "stream",
     "text": [
      "Enter the number of employees: 2\n",
      "Enter details for Employee 1:\n",
      "Enter name: Raj\n",
      "Enter age: 26\n",
      "Enter occupation: Engineer \n",
      "Enter details for Employee 2:\n",
      "Enter name: John\n",
      "Enter age: 28\n",
      "Enter occupation: Data Analyst\n",
      "Details of Employees:\n",
      "Employee 1: {'Name': 'Raj', 'Age': 26, 'Occupation': 'Engineer '}\n",
      "Employee 2: {'Name': 'John', 'Age': 28, 'Occupation': 'Data Analyst'}\n"
     ]
    }
   ],
   "source": [
    "def main():\n",
    "    num_employees = int(input(\"Enter the number of employees: \"))\n",
    "    employee_data = []\n",
    "\n",
    "    for i in range(num_employees):\n",
    "        print(f\"Enter details for Employee {i + 1}:\")\n",
    "        name = input(\"Enter name: \")\n",
    "        age = int(input(\"Enter age: \"))\n",
    "        occupation = input(\"Enter occupation: \")\n",
    "\n",
    "        employee = {'Name': name, 'Age': age, 'Occupation': occupation}\n",
    "        employee_data.append(employee)\n",
    "\n",
    "    print(\"Details of Employees:\")\n",
    "    for i, employee in enumerate(employee_data, start=1):\n",
    "        print(f\"Employee {i}: {employee}\")\n",
    "\n",
    "if __name__ == \"__main__\":\n",
    "    main()\n"
   ]
  },
  {
   "cell_type": "markdown",
   "id": "cafd0cad",
   "metadata": {},
   "source": [
    "# Explaing code step by step\n",
    "\n",
    "The main() function is defined, which will contain the main logic of the program.\n",
    "\n",
    "The program starts by asking the user to enter the number of employees (num_employees) in the firm.\n",
    "\n",
    "An empty list called employee_data is created. This list will store the dictionaries containing the details of each employee.\n",
    "\n",
    "The program enters a loop that runs num_employees times. In each iteration of the loop, the program collects details for a single employee.\n",
    "\n",
    "Inside the loop, the program prompts the user to enter the details for the current employee. It asks for the name, age, and occupation of the employee.\n",
    "\n",
    "After collecting the details, the program creates a dictionary named employee with keys \"Name,\" \"Age,\" and \"Occupation\" and assigns the entered values as corresponding values to these keys.\n",
    "\n",
    "The employee dictionary is then appended to the employee_data list.\n",
    "\n",
    "After collecting details for all employees, the program prints the details of all employees using a loop. It uses the enumerate() function to get both the index and the employee dictionary for each iteration.\n",
    "\n",
    "The program prints out the details of each employee as a separate dictionary.\n",
    "\n",
    "The if __name__ == \"__main__\": block ensures that the main() function is executed only when the script is run directly and not when it's imported as a module.\n",
    "\n",
    "This code allows the user to input details for a specified number of employees, then"
   ]
  }
 ],
 "metadata": {
  "kernelspec": {
   "display_name": "Python 3 (ipykernel)",
   "language": "python",
   "name": "python3"
  },
  "language_info": {
   "codemirror_mode": {
    "name": "ipython",
    "version": 3
   },
   "file_extension": ".py",
   "mimetype": "text/x-python",
   "name": "python",
   "nbconvert_exporter": "python",
   "pygments_lexer": "ipython3",
   "version": "3.11.3"
  }
 },
 "nbformat": 4,
 "nbformat_minor": 5
}
