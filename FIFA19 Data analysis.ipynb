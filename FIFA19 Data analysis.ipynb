{
 "cells": [
  {
   "cell_type": "markdown",
   "id": "d85a73e6",
   "metadata": {},
   "source": [
    "# Importing Data from local machine"
   ]
  },
  {
   "cell_type": "code",
   "execution_count": 3,
   "id": "a4ade7b3",
   "metadata": {},
   "outputs": [
    {
     "data": {
      "text/html": [
       "<div>\n",
       "<style scoped>\n",
       "    .dataframe tbody tr th:only-of-type {\n",
       "        vertical-align: middle;\n",
       "    }\n",
       "\n",
       "    .dataframe tbody tr th {\n",
       "        vertical-align: top;\n",
       "    }\n",
       "\n",
       "    .dataframe thead th {\n",
       "        text-align: right;\n",
       "    }\n",
       "</style>\n",
       "<table border=\"1\" class=\"dataframe\">\n",
       "  <thead>\n",
       "    <tr style=\"text-align: right;\">\n",
       "      <th></th>\n",
       "      <th>Unnamed: 0</th>\n",
       "      <th>Name</th>\n",
       "      <th>Age</th>\n",
       "      <th>Nationality</th>\n",
       "      <th>Overall</th>\n",
       "      <th>Potential</th>\n",
       "      <th>Club</th>\n",
       "      <th>Value</th>\n",
       "      <th>Wage</th>\n",
       "      <th>Preferred Foot</th>\n",
       "      <th>...</th>\n",
       "      <th>StandingTackle</th>\n",
       "      <th>SlidingTackle</th>\n",
       "      <th>GKDiving</th>\n",
       "      <th>GKHandling</th>\n",
       "      <th>GKKicking</th>\n",
       "      <th>GKPositioning</th>\n",
       "      <th>GKReflexes</th>\n",
       "      <th>Release Clause</th>\n",
       "      <th>League</th>\n",
       "      <th>Speciality</th>\n",
       "    </tr>\n",
       "  </thead>\n",
       "  <tbody>\n",
       "    <tr>\n",
       "      <th>0</th>\n",
       "      <td>0</td>\n",
       "      <td>L. Messi</td>\n",
       "      <td>31</td>\n",
       "      <td>Argentina</td>\n",
       "      <td>94</td>\n",
       "      <td>94</td>\n",
       "      <td>FC Barcelona</td>\n",
       "      <td>€110.5M</td>\n",
       "      <td>€565K</td>\n",
       "      <td>Left</td>\n",
       "      <td>...</td>\n",
       "      <td>28</td>\n",
       "      <td>26</td>\n",
       "      <td>6</td>\n",
       "      <td>11</td>\n",
       "      <td>15</td>\n",
       "      <td>14</td>\n",
       "      <td>8</td>\n",
       "      <td>€226.5M</td>\n",
       "      <td>LALIGA SANTANDER</td>\n",
       "      <td>Complete Forward</td>\n",
       "    </tr>\n",
       "    <tr>\n",
       "      <th>1</th>\n",
       "      <td>1</td>\n",
       "      <td>Cristiano Ronaldo</td>\n",
       "      <td>33</td>\n",
       "      <td>Portugal</td>\n",
       "      <td>94</td>\n",
       "      <td>94</td>\n",
       "      <td>Juventus</td>\n",
       "      <td>€77M</td>\n",
       "      <td>€405K</td>\n",
       "      <td>Right</td>\n",
       "      <td>...</td>\n",
       "      <td>31</td>\n",
       "      <td>23</td>\n",
       "      <td>7</td>\n",
       "      <td>11</td>\n",
       "      <td>15</td>\n",
       "      <td>14</td>\n",
       "      <td>11</td>\n",
       "      <td>€127.1M</td>\n",
       "      <td>SERIE A TIM</td>\n",
       "      <td>Distance Shooter</td>\n",
       "    </tr>\n",
       "    <tr>\n",
       "      <th>2</th>\n",
       "      <td>2</td>\n",
       "      <td>Neymar Jr</td>\n",
       "      <td>26</td>\n",
       "      <td>Brazil</td>\n",
       "      <td>92</td>\n",
       "      <td>93</td>\n",
       "      <td>Paris Saint-Germain</td>\n",
       "      <td>€118.5M</td>\n",
       "      <td>€290K</td>\n",
       "      <td>Right</td>\n",
       "      <td>...</td>\n",
       "      <td>24</td>\n",
       "      <td>33</td>\n",
       "      <td>9</td>\n",
       "      <td>9</td>\n",
       "      <td>15</td>\n",
       "      <td>15</td>\n",
       "      <td>11</td>\n",
       "      <td>€228.1M</td>\n",
       "      <td>LIGUE 1 CONFORAMA</td>\n",
       "      <td>Complete Forward</td>\n",
       "    </tr>\n",
       "    <tr>\n",
       "      <th>3</th>\n",
       "      <td>3</td>\n",
       "      <td>De Gea</td>\n",
       "      <td>27</td>\n",
       "      <td>Spain</td>\n",
       "      <td>91</td>\n",
       "      <td>93</td>\n",
       "      <td>Manchester United</td>\n",
       "      <td>€72M</td>\n",
       "      <td>€260K</td>\n",
       "      <td>Right</td>\n",
       "      <td>...</td>\n",
       "      <td>21</td>\n",
       "      <td>13</td>\n",
       "      <td>90</td>\n",
       "      <td>85</td>\n",
       "      <td>87</td>\n",
       "      <td>88</td>\n",
       "      <td>94</td>\n",
       "      <td>€138.6M</td>\n",
       "      <td>PREMIER LEAGUE</td>\n",
       "      <td>Goalkeeper</td>\n",
       "    </tr>\n",
       "    <tr>\n",
       "      <th>4</th>\n",
       "      <td>4</td>\n",
       "      <td>K. De Bruyne</td>\n",
       "      <td>27</td>\n",
       "      <td>Belgium</td>\n",
       "      <td>91</td>\n",
       "      <td>92</td>\n",
       "      <td>Manchester City</td>\n",
       "      <td>€102M</td>\n",
       "      <td>€355K</td>\n",
       "      <td>Right</td>\n",
       "      <td>...</td>\n",
       "      <td>58</td>\n",
       "      <td>51</td>\n",
       "      <td>15</td>\n",
       "      <td>13</td>\n",
       "      <td>5</td>\n",
       "      <td>10</td>\n",
       "      <td>13</td>\n",
       "      <td>€196.4M</td>\n",
       "      <td>PREMIER LEAGUE</td>\n",
       "      <td>Complete Midfielder</td>\n",
       "    </tr>\n",
       "  </tbody>\n",
       "</table>\n",
       "<p>5 rows × 58 columns</p>\n",
       "</div>"
      ],
      "text/plain": [
       "   Unnamed: 0               Name  Age Nationality  Overall  Potential  \\\n",
       "0           0           L. Messi   31   Argentina       94         94   \n",
       "1           1  Cristiano Ronaldo   33    Portugal       94         94   \n",
       "2           2          Neymar Jr   26      Brazil       92         93   \n",
       "3           3             De Gea   27       Spain       91         93   \n",
       "4           4       K. De Bruyne   27     Belgium       91         92   \n",
       "\n",
       "                  Club    Value   Wage Preferred Foot  ...  StandingTackle  \\\n",
       "0         FC Barcelona  €110.5M  €565K           Left  ...              28   \n",
       "1             Juventus     €77M  €405K          Right  ...              31   \n",
       "2  Paris Saint-Germain  €118.5M  €290K          Right  ...              24   \n",
       "3    Manchester United     €72M  €260K          Right  ...              21   \n",
       "4      Manchester City    €102M  €355K          Right  ...              58   \n",
       "\n",
       "   SlidingTackle  GKDiving GKHandling GKKicking  GKPositioning GKReflexes  \\\n",
       "0             26         6         11        15             14          8   \n",
       "1             23         7         11        15             14         11   \n",
       "2             33         9          9        15             15         11   \n",
       "3             13        90         85        87             88         94   \n",
       "4             51        15         13         5             10         13   \n",
       "\n",
       "  Release Clause             League           Speciality  \n",
       "0        €226.5M   LALIGA SANTANDER     Complete Forward  \n",
       "1        €127.1M        SERIE A TIM     Distance Shooter  \n",
       "2        €228.1M  LIGUE 1 CONFORAMA     Complete Forward  \n",
       "3        €138.6M     PREMIER LEAGUE           Goalkeeper  \n",
       "4        €196.4M     PREMIER LEAGUE  Complete Midfielder  \n",
       "\n",
       "[5 rows x 58 columns]"
      ]
     },
     "execution_count": 3,
     "metadata": {},
     "output_type": "execute_result"
    }
   ],
   "source": [
    "import pandas as pd\n",
    "df = pd.read_csv(\"E:\\\\Jupyter\\\\FIFA19.csv\")\n",
    "df.head()"
   ]
  },
  {
   "cell_type": "code",
   "execution_count": 10,
   "id": "c15b2157",
   "metadata": {},
   "outputs": [
    {
     "data": {
      "text/plain": [
       "(18147, 58)"
      ]
     },
     "execution_count": 10,
     "metadata": {},
     "output_type": "execute_result"
    }
   ],
   "source": [
    "df.shape"
   ]
  },
  {
   "cell_type": "code",
   "execution_count": 11,
   "id": "1d52abfb",
   "metadata": {},
   "outputs": [
    {
     "name": "stdout",
     "output_type": "stream",
     "text": [
      "<class 'pandas.core.frame.DataFrame'>\n",
      "RangeIndex: 18147 entries, 0 to 18146\n",
      "Data columns (total 58 columns):\n",
      " #   Column                    Non-Null Count  Dtype \n",
      "---  ------                    --------------  ----- \n",
      " 0   Unnamed: 0                18147 non-null  int64 \n",
      " 1   Name                      18147 non-null  object\n",
      " 2   Age                       18147 non-null  int64 \n",
      " 3   Nationality               18147 non-null  object\n",
      " 4   Overall                   18147 non-null  int64 \n",
      " 5   Potential                 18147 non-null  int64 \n",
      " 6   Club                      18147 non-null  object\n",
      " 7   Value                     18147 non-null  object\n",
      " 8   Wage                      18147 non-null  object\n",
      " 9   Preferred Foot            18147 non-null  object\n",
      " 10  International Reputation  18147 non-null  int64 \n",
      " 11  Weak Foot                 18147 non-null  int64 \n",
      " 12  Skill Moves               18147 non-null  int64 \n",
      " 13  Work Rate                 18147 non-null  object\n",
      " 14  Position                  18147 non-null  object\n",
      " 15  Jersey Number             18147 non-null  int64 \n",
      " 16  Joined                    16654 non-null  object\n",
      " 17  Loaned From               18147 non-null  object\n",
      " 18  Contract Valid Until      18147 non-null  object\n",
      " 19  Height                    18147 non-null  object\n",
      " 20  Weight                    18147 non-null  object\n",
      " 21  Crossing                  18147 non-null  int64 \n",
      " 22  Finishing                 18147 non-null  int64 \n",
      " 23  HeadingAccuracy           18147 non-null  int64 \n",
      " 24  ShortPassing              18147 non-null  int64 \n",
      " 25  Volleys                   18147 non-null  int64 \n",
      " 26  Dribbling                 18147 non-null  int64 \n",
      " 27  Curve                     18147 non-null  int64 \n",
      " 28  FKAccuracy                18147 non-null  int64 \n",
      " 29  LongPassing               18147 non-null  int64 \n",
      " 30  BallControl               18147 non-null  int64 \n",
      " 31  Acceleration              18147 non-null  int64 \n",
      " 32  SprintSpeed               18147 non-null  int64 \n",
      " 33  Agility                   18147 non-null  int64 \n",
      " 34  Reactions                 18147 non-null  int64 \n",
      " 35  Balance                   18147 non-null  int64 \n",
      " 36  ShotPower                 18147 non-null  int64 \n",
      " 37  Jumping                   18147 non-null  int64 \n",
      " 38  Stamina                   18147 non-null  int64 \n",
      " 39  Strength                  18147 non-null  int64 \n",
      " 40  LongShots                 18147 non-null  int64 \n",
      " 41  Aggression                18147 non-null  int64 \n",
      " 42  Interceptions             18147 non-null  int64 \n",
      " 43  Positioning               18147 non-null  int64 \n",
      " 44  Vision                    18147 non-null  int64 \n",
      " 45  Penalties                 18147 non-null  int64 \n",
      " 46  Composure                 18147 non-null  int64 \n",
      " 47  Marking                   18147 non-null  int64 \n",
      " 48  StandingTackle            18147 non-null  int64 \n",
      " 49  SlidingTackle             18147 non-null  int64 \n",
      " 50  GKDiving                  18147 non-null  int64 \n",
      " 51  GKHandling                18147 non-null  int64 \n",
      " 52  GKKicking                 18147 non-null  int64 \n",
      " 53  GKPositioning             18147 non-null  int64 \n",
      " 54  GKReflexes                18147 non-null  int64 \n",
      " 55  Release Clause            18147 non-null  object\n",
      " 56  League                    18147 non-null  object\n",
      " 57  Speciality                18147 non-null  object\n",
      "dtypes: int64(42), object(16)\n",
      "memory usage: 8.0+ MB\n"
     ]
    }
   ],
   "source": [
    "df.info()"
   ]
  },
  {
   "cell_type": "markdown",
   "id": "159ee81a",
   "metadata": {},
   "source": [
    "# Analyze how different player attributes affect the overall rating"
   ]
  },
  {
   "cell_type": "code",
   "execution_count": 4,
   "id": "8b6bf621",
   "metadata": {},
   "outputs": [
    {
     "data": {
      "image/png": "[encoded data removed]",
      "text/plain": [
       "<Figure size 640x480 with 1 Axes>"
      ]
     },
     "metadata": {},
     "output_type": "display_data"
    }
   ],
   "source": [
    "import matplotlib.pyplot as plt\n",
    "\n",
    "# Scatter plot for Overall vs. Acceleration\n",
    "plt.scatter(df['Acceleration'], df['Overall'])\n",
    "plt.xlabel('Acceleration')\n",
    "plt.ylabel('Overall Rating')\n",
    "plt.title('Overall Rating vs. Acceleration')\n",
    "plt.show()"
   ]
  },
  {
   "cell_type": "markdown",
   "id": "62a80c2e",
   "metadata": {},
   "source": [
    "# Identify players with the highest overall rating"
   ]
  },
  {
   "cell_type": "code",
   "execution_count": 5,
   "id": "0d46d96a",
   "metadata": {},
   "outputs": [
    {
     "name": "stdout",
     "output_type": "stream",
     "text": [
      "                 Name  Overall\n",
      "0            L. Messi       94\n",
      "1   Cristiano Ronaldo       94\n",
      "2           Neymar Jr       92\n",
      "3              De Gea       91\n",
      "4        K. De Bruyne       91\n",
      "5           E. Hazard       91\n",
      "6           L. Modrić       91\n",
      "7           L. Suárez       91\n",
      "8        Sergio Ramos       91\n",
      "12           D. Godín       90\n"
     ]
    }
   ],
   "source": [
    "# Sort players by Overall rating in descending order\n",
    "top_players = df.sort_values(by='Overall', ascending=False).head(10)\n",
    "\n",
    "# Display the top players\n",
    "print(top_players[['Name', 'Overall']])"
   ]
  },
  {
   "cell_type": "markdown",
   "id": "35578061",
   "metadata": {},
   "source": [
    "# Determine which attributes are most important for determining the overall rating"
   ]
  },
  {
   "cell_type": "code",
   "execution_count": 8,
   "id": "babba68b",
   "metadata": {},
   "outputs": [
    {
     "name": "stdout",
     "output_type": "stream",
     "text": [
      "StandingTackle: 0.2631473025617211\n",
      "SlidingTackle: -0.16194376015018597\n",
      "GKDiving: -0.015976104089387773\n",
      "GKHandling: 0.003342897576430959\n",
      "GKKicking: -0.037011196538994644\n",
      "GKPositioning: 0.0853966617931069\n",
      "GKReflexes: 0.028515824349823738\n"
     ]
    }
   ],
   "source": [
    "from sklearn.linear_model import LinearRegression\n",
    "\n",
    "# Define independent variables (attributes) and dependent variable (Overall rating)\n",
    "X = df[['StandingTackle', 'SlidingTackle','GKDiving','GKHandling','GKKicking','GKPositioning','GKReflexes',]]  \n",
    "y = df['Overall']\n",
    "\n",
    "# Fit a linear regression model\n",
    "model = LinearRegression()\n",
    "model.fit(X, y)\n",
    "\n",
    "# Get coefficients (importance) of each attribute\n",
    "importance = model.coef_\n",
    "\n",
    "# Print attribute importance\n",
    "for i, attr in enumerate(X.columns):\n",
    "    print(f'{attr}: {importance[i]}')\n"
   ]
  }
 ],
 "metadata": {
  "kernelspec": {
   "display_name": "Python 3 (ipykernel)",
   "language": "python",
   "name": "python3"
  },
  "language_info": {
   "codemirror_mode": {
    "name": "ipython",
    "version": 3
   },
   "file_extension": ".py",
   "mimetype": "text/x-python",
   "name": "python",
   "nbconvert_exporter": "python",
   "pygments_lexer": "ipython3",
   "version": "3.11.3"
  }
 },
 "nbformat": 4,
 "nbformat_minor": 5
}
